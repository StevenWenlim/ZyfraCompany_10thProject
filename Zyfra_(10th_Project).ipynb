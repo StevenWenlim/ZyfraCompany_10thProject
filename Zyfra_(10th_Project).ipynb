{
  "cells": [
    {
      "cell_type": "markdown",
      "metadata": {
        "id": "etR85A7TNB27"
      },
      "source": [
        "# Finding a Suitable Location for New Oil Well Drilling"
      ]
    },
    {
      "cell_type": "markdown",
      "metadata": {
        "id": "IzrQf3etNB28"
      },
      "source": [
        "# Content <a id='contents'></a>\n",
        "\n",
        "* [0 Overview](#big_picture)\n",
        "    * [0.1 Introduction](#intro)\n",
        "    * [0.2 Data Descrition](#data_description)\n",
        "    * [0.3 Goals](#goals_and_step)\n",
        "\n",
        "* [1 Data_Preprocessing](#data_preprocessing)\n",
        "    * [1.1 Load Data](#load_data)\n",
        "    * [1.2 Initial_Data_Exploration](#initial_data_exploration)\n",
        "    * [1.3 Initial Summary](#initial_summary)\n",
        "    \n",
        "* [2 Train and Test Model for Each Region](#train_data_and_test_model)\n",
        "    * [2.1 Spliting Data into Training Set and Validation Set](#split_data)\n",
        "    * [2.2 Model Train and Generate Prediction for Validation Dataset](#train_model)\n",
        "    * [2.3 Save Prediction and Correct Validation Dataset](#save_valid_answer)\n",
        "    * [2.4 Average Product Volume and RMSE Model](#mean_product_volume)\n",
        "    * [2.5 Initial Analysis](#initial_analysis)\n",
        "\n",
        "* [3 Initial Profit Calculation](#initial_profit_calculation)\n",
        "    * [3.1 Main Variable](#key_variable)\n",
        "    * [3.2 Volume of Oil Reserves Sufficient to Develop a New wel](#minimum_oil_volume)\n",
        "    * [3.3 Subsection Conclusion](#subsection_conclusion)\n",
        "\n",
        "\n",
        "* [4 Profit Calculation](#profit_calculation)\n",
        "\n",
        "* [5 Risk and Return](#risk_and_return)\n",
        "\n",
        "* [6 Summary](#Summary)"
      ]
    },
    {
      "cell_type": "markdown",
      "metadata": {
        "id": "fnOwi9mONB29"
      },
      "source": [
        "# Overview <a id='big_picture'></a>"
      ]
    },
    {
      "cell_type": "markdown",
      "metadata": {
        "id": "bwenffy5NB29"
      },
      "source": [
        "### Introduction <a id='intro'></a>"
      ]
    },
    {
      "cell_type": "markdown",
      "metadata": {
        "id": "U98OQe8dNB29"
      },
      "source": [
        "Sebagai seorang data scientist di perusahaan OilyGiant. Saya diminta untuk menemukan lokasi yang cocok untuk penggalian sumur minyak baru. Data yang tersedia adalah data sampel minyak dari tiga wilayah. Pada project ini saya akan membuat sebuah model yang akan membantu Anda memilih wilayah dengan margin laba tertinggi. Analisis terhadap laba dan risiko potensial akan dilakukan menggunakan teknik bootstrapping."
      ]
    },
    {
      "cell_type": "markdown",
      "metadata": {
        "id": "R2dKCHv1NB2-"
      },
      "source": [
        "### Data Description <a id='data_description'></a>"
      ]
    },
    {
      "cell_type": "markdown",
      "metadata": {
        "id": "EnndTdZJNB2-"
      },
      "source": [
        "**Fitur:**\n",
        "\n",
        "- id — ID unik sumur minyak\n",
        "- f0, f1, f2 — tiga fitur titik (makna spesifiknya tidak penting, tetapi fitur itu sendiri signifikan)\n",
        "- product — volume cadangan minyak di sumur (ribuan barel)."
      ]
    },
    {
      "cell_type": "markdown",
      "metadata": {
        "id": "EfVocXp_NB2-"
      },
      "source": [
        "### Goals <a id='goals_and_step'></a>"
      ]
    },
    {
      "cell_type": "markdown",
      "metadata": {
        "id": "9vC4AZ3-NB2_"
      },
      "source": [
        "**The purpose of this project is to find a suitable location for oil well drilling.**\n",
        "\n",
        "**Steps to be taken:**\n",
        "1. Train and test the model for each area::\n",
        " - Separate data into training set and validation set with a ratio of 75:25.\n",
        " - Train your model and make predictions for the validation set.\n",
        " - Save the predictions and correct answers for the validation set.\n",
        " - Display the predicted average volume of oil reserves and the model's RMSE.\n",
        " - Analyze the results.\n",
        "2. Prepare for profit calculation:\n",
        " - Save all key values for profit calculation in separate variables.\n",
        " - Calculate the volume of oil reserves sufficient to develop a new well without losses.  \n",
        " - Compare the obtained value with the average volume of oil reserves in each area.\n",
        " - Present your findings regarding the preparation for profit calculation.\n",
        "3. Create function to calculate profits from a selected set of oil wells and model predictions::\n",
        " - Select the well with the highest predicted value.\n",
        " - Summarize the target volume of oil reserves based on those predictions.\n",
        " - Propose an area for oil well development and provide justification or reasons for your choice. Calculate the profits for the obtained volume of oil reserves.\n",
        "4. Calculate the risks and profits for each area::\n",
        " - Use bootstrapping technique with 1,000 samples to find the profit distribution.\n",
        " - Find the average profit, 95% confidence interval, and risk of loss. Loss is negative profit, calculate the probability of possible losses and express it as a percentage.\n",
        " - Present your findings: suggest an area for oil well development and provide justification or reasons for your choice."
      ]
    },
    {
      "cell_type": "markdown",
      "metadata": {
        "id": "JOjVqKArNB2_"
      },
      "source": [
        "## Data Preprocessing<a id='data_preprocessing'></a>"
      ]
    },
    {
      "cell_type": "code",
      "execution_count": null,
      "metadata": {
        "id": "Ux-GIWW_NB3A"
      },
      "outputs": [],
      "source": [
        "# Muat semua library\n",
        "import pandas as pd\n",
        "import matplotlib.pyplot as plt\n",
        "import seaborn as sns\n",
        "import numpy as np\n",
        "\n",
        "from scipy import stats as st \n",
        "\n",
        "from sklearn.tree import DecisionTreeClassifier, DecisionTreeRegressor\n",
        "from sklearn.ensemble import RandomForestClassifier, RandomForestRegressor\n",
        "from sklearn.linear_model import LogisticRegression, LinearRegression, Ridge\n",
        "\n",
        "from sklearn.model_selection import train_test_split, GridSearchCV\n",
        "from sklearn.metrics import mean_squared_error, f1_score, roc_auc_score, make_scorer\n",
        "from sklearn.preprocessing import OrdinalEncoder, StandardScaler\n",
        "from sklearn.metrics import roc_auc_score\n",
        "\n",
        "from sklearn.utils import shuffle\n",
        "\n",
        "import warnings\n",
        "warnings.filterwarnings('ignore')"
      ]
    },
    {
      "cell_type": "markdown",
      "metadata": {
        "id": "-KdRE9NMNB3B"
      },
      "source": [
        "### Load Data <a id='load_data'></a>"
      ]
    },
    {
      "cell_type": "code",
      "execution_count": null,
      "metadata": {
        "id": "mm6Tw_8WNB3B"
      },
      "outputs": [],
      "source": [
        "# Muat file data menjadi DataFrame\n",
        "df0 = pd.read_csv('/datasets/geo_data_0.csv')\n",
        "df1 = pd.read_csv('/datasets/geo_data_1.csv')\n",
        "df2 = pd.read_csv('/datasets/geo_data_2.csv')"
      ]
    },
    {
      "cell_type": "markdown",
      "metadata": {
        "id": "bpLY7ZHgNB3B"
      },
      "source": [
        "### Initial Data Exploration <a id='initial_data_exploration'></a>"
      ]
    },
    {
      "cell_type": "code",
      "execution_count": null,
      "metadata": {
        "id": "hu6B_WTTNB3C",
        "outputId": "12c8324c-8ad4-47d6-d6a4-7eb7156a6747"
      },
      "outputs": [
        {
          "data": {
            "text/html": [
              "<div>\n",
              "<style scoped>\n",
              "    .dataframe tbody tr th:only-of-type {\n",
              "        vertical-align: middle;\n",
              "    }\n",
              "\n",
              "    .dataframe tbody tr th {\n",
              "        vertical-align: top;\n",
              "    }\n",
              "\n",
              "    .dataframe thead th {\n",
              "        text-align: right;\n",
              "    }\n",
              "</style>\n",
              "<table border=\"1\" class=\"dataframe\">\n",
              "  <thead>\n",
              "    <tr style=\"text-align: right;\">\n",
              "      <th></th>\n",
              "      <th>id</th>\n",
              "      <th>f0</th>\n",
              "      <th>f1</th>\n",
              "      <th>f2</th>\n",
              "      <th>product</th>\n",
              "    </tr>\n",
              "  </thead>\n",
              "  <tbody>\n",
              "    <tr>\n",
              "      <th>93831</th>\n",
              "      <td>E1JtE</td>\n",
              "      <td>1.898214</td>\n",
              "      <td>-0.089501</td>\n",
              "      <td>3.603826</td>\n",
              "      <td>156.112824</td>\n",
              "    </tr>\n",
              "    <tr>\n",
              "      <th>15431</th>\n",
              "      <td>ahykT</td>\n",
              "      <td>2.013823</td>\n",
              "      <td>0.323875</td>\n",
              "      <td>-0.242273</td>\n",
              "      <td>51.184754</td>\n",
              "    </tr>\n",
              "    <tr>\n",
              "      <th>56500</th>\n",
              "      <td>iTbMK</td>\n",
              "      <td>-1.034147</td>\n",
              "      <td>0.389460</td>\n",
              "      <td>5.601539</td>\n",
              "      <td>64.416238</td>\n",
              "    </tr>\n",
              "    <tr>\n",
              "      <th>27361</th>\n",
              "      <td>tsRG2</td>\n",
              "      <td>-0.566030</td>\n",
              "      <td>0.834494</td>\n",
              "      <td>2.160257</td>\n",
              "      <td>124.513944</td>\n",
              "    </tr>\n",
              "    <tr>\n",
              "      <th>41720</th>\n",
              "      <td>ceTFD</td>\n",
              "      <td>0.409916</td>\n",
              "      <td>-0.399627</td>\n",
              "      <td>5.132847</td>\n",
              "      <td>147.054842</td>\n",
              "    </tr>\n",
              "  </tbody>\n",
              "</table>\n",
              "</div>"
            ],
            "text/plain": [
              "          id        f0        f1        f2     product\n",
              "93831  E1JtE  1.898214 -0.089501  3.603826  156.112824\n",
              "15431  ahykT  2.013823  0.323875 -0.242273   51.184754\n",
              "56500  iTbMK -1.034147  0.389460  5.601539   64.416238\n",
              "27361  tsRG2 -0.566030  0.834494  2.160257  124.513944\n",
              "41720  ceTFD  0.409916 -0.399627  5.132847  147.054842"
            ]
          },
          "execution_count": 3,
          "metadata": {},
          "output_type": "execute_result"
        }
      ],
      "source": [
        "# Menampilkan sample data untuk melihat data secara sekilas\n",
        "df0.sample(5)"
      ]
    },
    {
      "cell_type": "code",
      "execution_count": null,
      "metadata": {
        "id": "KBPvzJhkNB3C",
        "outputId": "52df0667-82e4-40ec-bbac-e53118fbf0b4"
      },
      "outputs": [
        {
          "name": "stdout",
          "output_type": "stream",
          "text": [
            "<class 'pandas.core.frame.DataFrame'>\n",
            "RangeIndex: 100000 entries, 0 to 99999\n",
            "Data columns (total 5 columns):\n",
            " #   Column   Non-Null Count   Dtype  \n",
            "---  ------   --------------   -----  \n",
            " 0   id       100000 non-null  object \n",
            " 1   f0       100000 non-null  float64\n",
            " 2   f1       100000 non-null  float64\n",
            " 3   f2       100000 non-null  float64\n",
            " 4   product  100000 non-null  float64\n",
            "dtypes: float64(4), object(1)\n",
            "memory usage: 3.8+ MB\n"
          ]
        }
      ],
      "source": [
        "# Menampilkan informasi/rangkuman umum tentang DataFrame\n",
        "df0.info()"
      ]
    },
    {
      "cell_type": "code",
      "execution_count": null,
      "metadata": {
        "id": "Gy_t3BqBNB3D",
        "outputId": "c4e75638-913e-4a49-b464-73db2615e7ef"
      },
      "outputs": [
        {
          "data": {
            "text/html": [
              "<div>\n",
              "<style scoped>\n",
              "    .dataframe tbody tr th:only-of-type {\n",
              "        vertical-align: middle;\n",
              "    }\n",
              "\n",
              "    .dataframe tbody tr th {\n",
              "        vertical-align: top;\n",
              "    }\n",
              "\n",
              "    .dataframe thead th {\n",
              "        text-align: right;\n",
              "    }\n",
              "</style>\n",
              "<table border=\"1\" class=\"dataframe\">\n",
              "  <thead>\n",
              "    <tr style=\"text-align: right;\">\n",
              "      <th></th>\n",
              "      <th>f0</th>\n",
              "      <th>f1</th>\n",
              "      <th>f2</th>\n",
              "      <th>product</th>\n",
              "    </tr>\n",
              "  </thead>\n",
              "  <tbody>\n",
              "    <tr>\n",
              "      <th>count</th>\n",
              "      <td>100000.000000</td>\n",
              "      <td>100000.000000</td>\n",
              "      <td>100000.000000</td>\n",
              "      <td>100000.000000</td>\n",
              "    </tr>\n",
              "    <tr>\n",
              "      <th>mean</th>\n",
              "      <td>0.500419</td>\n",
              "      <td>0.250143</td>\n",
              "      <td>2.502647</td>\n",
              "      <td>92.500000</td>\n",
              "    </tr>\n",
              "    <tr>\n",
              "      <th>std</th>\n",
              "      <td>0.871832</td>\n",
              "      <td>0.504433</td>\n",
              "      <td>3.248248</td>\n",
              "      <td>44.288691</td>\n",
              "    </tr>\n",
              "    <tr>\n",
              "      <th>min</th>\n",
              "      <td>-1.408605</td>\n",
              "      <td>-0.848218</td>\n",
              "      <td>-12.088328</td>\n",
              "      <td>0.000000</td>\n",
              "    </tr>\n",
              "    <tr>\n",
              "      <th>25%</th>\n",
              "      <td>-0.072580</td>\n",
              "      <td>-0.200881</td>\n",
              "      <td>0.287748</td>\n",
              "      <td>56.497507</td>\n",
              "    </tr>\n",
              "    <tr>\n",
              "      <th>50%</th>\n",
              "      <td>0.502360</td>\n",
              "      <td>0.250252</td>\n",
              "      <td>2.515969</td>\n",
              "      <td>91.849972</td>\n",
              "    </tr>\n",
              "    <tr>\n",
              "      <th>75%</th>\n",
              "      <td>1.073581</td>\n",
              "      <td>0.700646</td>\n",
              "      <td>4.715088</td>\n",
              "      <td>128.564089</td>\n",
              "    </tr>\n",
              "    <tr>\n",
              "      <th>max</th>\n",
              "      <td>2.362331</td>\n",
              "      <td>1.343769</td>\n",
              "      <td>16.003790</td>\n",
              "      <td>185.364347</td>\n",
              "    </tr>\n",
              "  </tbody>\n",
              "</table>\n",
              "</div>"
            ],
            "text/plain": [
              "                  f0             f1             f2        product\n",
              "count  100000.000000  100000.000000  100000.000000  100000.000000\n",
              "mean        0.500419       0.250143       2.502647      92.500000\n",
              "std         0.871832       0.504433       3.248248      44.288691\n",
              "min        -1.408605      -0.848218     -12.088328       0.000000\n",
              "25%        -0.072580      -0.200881       0.287748      56.497507\n",
              "50%         0.502360       0.250252       2.515969      91.849972\n",
              "75%         1.073581       0.700646       4.715088     128.564089\n",
              "max         2.362331       1.343769      16.003790     185.364347"
            ]
          },
          "execution_count": 5,
          "metadata": {},
          "output_type": "execute_result"
        }
      ],
      "source": [
        "# Memampilkan nilai statistik dari kolom numerik\n",
        "df0.describe()"
      ]
    },
    {
      "cell_type": "code",
      "execution_count": null,
      "metadata": {
        "id": "_R98X-KZNB3D",
        "outputId": "a95b02ed-2633-456c-83a0-b43a9f4b250f"
      },
      "outputs": [
        {
          "data": {
            "text/html": [
              "<div>\n",
              "<style scoped>\n",
              "    .dataframe tbody tr th:only-of-type {\n",
              "        vertical-align: middle;\n",
              "    }\n",
              "\n",
              "    .dataframe tbody tr th {\n",
              "        vertical-align: top;\n",
              "    }\n",
              "\n",
              "    .dataframe thead th {\n",
              "        text-align: right;\n",
              "    }\n",
              "</style>\n",
              "<table border=\"1\" class=\"dataframe\">\n",
              "  <thead>\n",
              "    <tr style=\"text-align: right;\">\n",
              "      <th></th>\n",
              "      <th>id</th>\n",
              "      <th>f0</th>\n",
              "      <th>f1</th>\n",
              "      <th>f2</th>\n",
              "      <th>product</th>\n",
              "    </tr>\n",
              "  </thead>\n",
              "  <tbody>\n",
              "    <tr>\n",
              "      <th>62998</th>\n",
              "      <td>2NKwm</td>\n",
              "      <td>-2.620256</td>\n",
              "      <td>3.663492</td>\n",
              "      <td>3.008799</td>\n",
              "      <td>80.859783</td>\n",
              "    </tr>\n",
              "    <tr>\n",
              "      <th>39524</th>\n",
              "      <td>PnlHw</td>\n",
              "      <td>0.564890</td>\n",
              "      <td>-0.023699</td>\n",
              "      <td>1.004018</td>\n",
              "      <td>26.953261</td>\n",
              "    </tr>\n",
              "    <tr>\n",
              "      <th>80158</th>\n",
              "      <td>opMfG</td>\n",
              "      <td>7.757181</td>\n",
              "      <td>-2.187950</td>\n",
              "      <td>-0.012661</td>\n",
              "      <td>0.000000</td>\n",
              "    </tr>\n",
              "    <tr>\n",
              "      <th>22057</th>\n",
              "      <td>wo9lI</td>\n",
              "      <td>8.482358</td>\n",
              "      <td>-7.066569</td>\n",
              "      <td>4.000716</td>\n",
              "      <td>107.813044</td>\n",
              "    </tr>\n",
              "    <tr>\n",
              "      <th>72553</th>\n",
              "      <td>hC9Ae</td>\n",
              "      <td>-1.962900</td>\n",
              "      <td>-10.694838</td>\n",
              "      <td>1.989563</td>\n",
              "      <td>57.085625</td>\n",
              "    </tr>\n",
              "  </tbody>\n",
              "</table>\n",
              "</div>"
            ],
            "text/plain": [
              "          id        f0         f1        f2     product\n",
              "62998  2NKwm -2.620256   3.663492  3.008799   80.859783\n",
              "39524  PnlHw  0.564890  -0.023699  1.004018   26.953261\n",
              "80158  opMfG  7.757181  -2.187950 -0.012661    0.000000\n",
              "22057  wo9lI  8.482358  -7.066569  4.000716  107.813044\n",
              "72553  hC9Ae -1.962900 -10.694838  1.989563   57.085625"
            ]
          },
          "execution_count": 6,
          "metadata": {},
          "output_type": "execute_result"
        }
      ],
      "source": [
        "# Menampilkan sample data untuk melihat data secara sekilas\n",
        "df1.sample(5)"
      ]
    },
    {
      "cell_type": "code",
      "execution_count": null,
      "metadata": {
        "id": "4kkkq1VINB3D",
        "outputId": "492cbd37-3d0f-44e3-c0a4-48e871835eac"
      },
      "outputs": [
        {
          "name": "stdout",
          "output_type": "stream",
          "text": [
            "<class 'pandas.core.frame.DataFrame'>\n",
            "RangeIndex: 100000 entries, 0 to 99999\n",
            "Data columns (total 5 columns):\n",
            " #   Column   Non-Null Count   Dtype  \n",
            "---  ------   --------------   -----  \n",
            " 0   id       100000 non-null  object \n",
            " 1   f0       100000 non-null  float64\n",
            " 2   f1       100000 non-null  float64\n",
            " 3   f2       100000 non-null  float64\n",
            " 4   product  100000 non-null  float64\n",
            "dtypes: float64(4), object(1)\n",
            "memory usage: 3.8+ MB\n"
          ]
        }
      ],
      "source": [
        "# Menampilkan informasi/rangkuman umum tentang DataFrame\n",
        "df1.info()"
      ]
    },
    {
      "cell_type": "code",
      "execution_count": null,
      "metadata": {
        "id": "quv9Y9aRNB3D",
        "outputId": "65003280-26e8-4618-cd5f-a5c14d05b311"
      },
      "outputs": [
        {
          "data": {
            "text/html": [
              "<div>\n",
              "<style scoped>\n",
              "    .dataframe tbody tr th:only-of-type {\n",
              "        vertical-align: middle;\n",
              "    }\n",
              "\n",
              "    .dataframe tbody tr th {\n",
              "        vertical-align: top;\n",
              "    }\n",
              "\n",
              "    .dataframe thead th {\n",
              "        text-align: right;\n",
              "    }\n",
              "</style>\n",
              "<table border=\"1\" class=\"dataframe\">\n",
              "  <thead>\n",
              "    <tr style=\"text-align: right;\">\n",
              "      <th></th>\n",
              "      <th>f0</th>\n",
              "      <th>f1</th>\n",
              "      <th>f2</th>\n",
              "      <th>product</th>\n",
              "    </tr>\n",
              "  </thead>\n",
              "  <tbody>\n",
              "    <tr>\n",
              "      <th>count</th>\n",
              "      <td>100000.000000</td>\n",
              "      <td>100000.000000</td>\n",
              "      <td>100000.000000</td>\n",
              "      <td>100000.000000</td>\n",
              "    </tr>\n",
              "    <tr>\n",
              "      <th>mean</th>\n",
              "      <td>1.141296</td>\n",
              "      <td>-4.796579</td>\n",
              "      <td>2.494541</td>\n",
              "      <td>68.825000</td>\n",
              "    </tr>\n",
              "    <tr>\n",
              "      <th>std</th>\n",
              "      <td>8.965932</td>\n",
              "      <td>5.119872</td>\n",
              "      <td>1.703572</td>\n",
              "      <td>45.944423</td>\n",
              "    </tr>\n",
              "    <tr>\n",
              "      <th>min</th>\n",
              "      <td>-31.609576</td>\n",
              "      <td>-26.358598</td>\n",
              "      <td>-0.018144</td>\n",
              "      <td>0.000000</td>\n",
              "    </tr>\n",
              "    <tr>\n",
              "      <th>25%</th>\n",
              "      <td>-6.298551</td>\n",
              "      <td>-8.267985</td>\n",
              "      <td>1.000021</td>\n",
              "      <td>26.953261</td>\n",
              "    </tr>\n",
              "    <tr>\n",
              "      <th>50%</th>\n",
              "      <td>1.153055</td>\n",
              "      <td>-4.813172</td>\n",
              "      <td>2.011479</td>\n",
              "      <td>57.085625</td>\n",
              "    </tr>\n",
              "    <tr>\n",
              "      <th>75%</th>\n",
              "      <td>8.621015</td>\n",
              "      <td>-1.332816</td>\n",
              "      <td>3.999904</td>\n",
              "      <td>107.813044</td>\n",
              "    </tr>\n",
              "    <tr>\n",
              "      <th>max</th>\n",
              "      <td>29.421755</td>\n",
              "      <td>18.734063</td>\n",
              "      <td>5.019721</td>\n",
              "      <td>137.945408</td>\n",
              "    </tr>\n",
              "  </tbody>\n",
              "</table>\n",
              "</div>"
            ],
            "text/plain": [
              "                  f0             f1             f2        product\n",
              "count  100000.000000  100000.000000  100000.000000  100000.000000\n",
              "mean        1.141296      -4.796579       2.494541      68.825000\n",
              "std         8.965932       5.119872       1.703572      45.944423\n",
              "min       -31.609576     -26.358598      -0.018144       0.000000\n",
              "25%        -6.298551      -8.267985       1.000021      26.953261\n",
              "50%         1.153055      -4.813172       2.011479      57.085625\n",
              "75%         8.621015      -1.332816       3.999904     107.813044\n",
              "max        29.421755      18.734063       5.019721     137.945408"
            ]
          },
          "execution_count": 8,
          "metadata": {},
          "output_type": "execute_result"
        }
      ],
      "source": [
        "# Memampilkan nilai statistik dari kolom numerik\n",
        "df1.describe()"
      ]
    },
    {
      "cell_type": "code",
      "execution_count": null,
      "metadata": {
        "id": "EldZFjPKNB3E",
        "outputId": "37303d64-14a4-470b-eb6a-ddc635de9910"
      },
      "outputs": [
        {
          "data": {
            "text/html": [
              "<div>\n",
              "<style scoped>\n",
              "    .dataframe tbody tr th:only-of-type {\n",
              "        vertical-align: middle;\n",
              "    }\n",
              "\n",
              "    .dataframe tbody tr th {\n",
              "        vertical-align: top;\n",
              "    }\n",
              "\n",
              "    .dataframe thead th {\n",
              "        text-align: right;\n",
              "    }\n",
              "</style>\n",
              "<table border=\"1\" class=\"dataframe\">\n",
              "  <thead>\n",
              "    <tr style=\"text-align: right;\">\n",
              "      <th></th>\n",
              "      <th>id</th>\n",
              "      <th>f0</th>\n",
              "      <th>f1</th>\n",
              "      <th>f2</th>\n",
              "      <th>product</th>\n",
              "    </tr>\n",
              "  </thead>\n",
              "  <tbody>\n",
              "    <tr>\n",
              "      <th>52208</th>\n",
              "      <td>Ph8zL</td>\n",
              "      <td>3.511185</td>\n",
              "      <td>0.812331</td>\n",
              "      <td>4.170611</td>\n",
              "      <td>135.533778</td>\n",
              "    </tr>\n",
              "    <tr>\n",
              "      <th>87965</th>\n",
              "      <td>tgOl6</td>\n",
              "      <td>-6.077439</td>\n",
              "      <td>-1.366449</td>\n",
              "      <td>1.858951</td>\n",
              "      <td>153.001240</td>\n",
              "    </tr>\n",
              "    <tr>\n",
              "      <th>24501</th>\n",
              "      <td>tavUM</td>\n",
              "      <td>0.888976</td>\n",
              "      <td>-0.523874</td>\n",
              "      <td>7.791243</td>\n",
              "      <td>121.622966</td>\n",
              "    </tr>\n",
              "    <tr>\n",
              "      <th>9695</th>\n",
              "      <td>UG10W</td>\n",
              "      <td>1.393515</td>\n",
              "      <td>-1.369817</td>\n",
              "      <td>3.761893</td>\n",
              "      <td>126.167995</td>\n",
              "    </tr>\n",
              "    <tr>\n",
              "      <th>93144</th>\n",
              "      <td>Sa0R8</td>\n",
              "      <td>-0.812961</td>\n",
              "      <td>0.063893</td>\n",
              "      <td>8.140978</td>\n",
              "      <td>86.495576</td>\n",
              "    </tr>\n",
              "  </tbody>\n",
              "</table>\n",
              "</div>"
            ],
            "text/plain": [
              "          id        f0        f1        f2     product\n",
              "52208  Ph8zL  3.511185  0.812331  4.170611  135.533778\n",
              "87965  tgOl6 -6.077439 -1.366449  1.858951  153.001240\n",
              "24501  tavUM  0.888976 -0.523874  7.791243  121.622966\n",
              "9695   UG10W  1.393515 -1.369817  3.761893  126.167995\n",
              "93144  Sa0R8 -0.812961  0.063893  8.140978   86.495576"
            ]
          },
          "execution_count": 9,
          "metadata": {},
          "output_type": "execute_result"
        }
      ],
      "source": [
        "# Menampilkan sample data untuk melihat data secara sekilas\n",
        "df2.sample(5)"
      ]
    },
    {
      "cell_type": "code",
      "execution_count": null,
      "metadata": {
        "id": "YckH2Gg-NB3E",
        "outputId": "914f7c62-fdc7-47bc-ce74-7ab9aef0f737"
      },
      "outputs": [
        {
          "name": "stdout",
          "output_type": "stream",
          "text": [
            "<class 'pandas.core.frame.DataFrame'>\n",
            "RangeIndex: 100000 entries, 0 to 99999\n",
            "Data columns (total 5 columns):\n",
            " #   Column   Non-Null Count   Dtype  \n",
            "---  ------   --------------   -----  \n",
            " 0   id       100000 non-null  object \n",
            " 1   f0       100000 non-null  float64\n",
            " 2   f1       100000 non-null  float64\n",
            " 3   f2       100000 non-null  float64\n",
            " 4   product  100000 non-null  float64\n",
            "dtypes: float64(4), object(1)\n",
            "memory usage: 3.8+ MB\n"
          ]
        }
      ],
      "source": [
        "# Menampilkan informasi/rangkuman umum tentang DataFrame\n",
        "df2.info()"
      ]
    },
    {
      "cell_type": "code",
      "execution_count": null,
      "metadata": {
        "id": "Au2xw7aLNB3E",
        "outputId": "77e7c8ae-0fc3-448d-f624-19bd48587733"
      },
      "outputs": [
        {
          "data": {
            "text/html": [
              "<div>\n",
              "<style scoped>\n",
              "    .dataframe tbody tr th:only-of-type {\n",
              "        vertical-align: middle;\n",
              "    }\n",
              "\n",
              "    .dataframe tbody tr th {\n",
              "        vertical-align: top;\n",
              "    }\n",
              "\n",
              "    .dataframe thead th {\n",
              "        text-align: right;\n",
              "    }\n",
              "</style>\n",
              "<table border=\"1\" class=\"dataframe\">\n",
              "  <thead>\n",
              "    <tr style=\"text-align: right;\">\n",
              "      <th></th>\n",
              "      <th>f0</th>\n",
              "      <th>f1</th>\n",
              "      <th>f2</th>\n",
              "      <th>product</th>\n",
              "    </tr>\n",
              "  </thead>\n",
              "  <tbody>\n",
              "    <tr>\n",
              "      <th>count</th>\n",
              "      <td>100000.000000</td>\n",
              "      <td>100000.000000</td>\n",
              "      <td>100000.000000</td>\n",
              "      <td>100000.000000</td>\n",
              "    </tr>\n",
              "    <tr>\n",
              "      <th>mean</th>\n",
              "      <td>0.002023</td>\n",
              "      <td>-0.002081</td>\n",
              "      <td>2.495128</td>\n",
              "      <td>95.000000</td>\n",
              "    </tr>\n",
              "    <tr>\n",
              "      <th>std</th>\n",
              "      <td>1.732045</td>\n",
              "      <td>1.730417</td>\n",
              "      <td>3.473445</td>\n",
              "      <td>44.749921</td>\n",
              "    </tr>\n",
              "    <tr>\n",
              "      <th>min</th>\n",
              "      <td>-8.760004</td>\n",
              "      <td>-7.084020</td>\n",
              "      <td>-11.970335</td>\n",
              "      <td>0.000000</td>\n",
              "    </tr>\n",
              "    <tr>\n",
              "      <th>25%</th>\n",
              "      <td>-1.162288</td>\n",
              "      <td>-1.174820</td>\n",
              "      <td>0.130359</td>\n",
              "      <td>59.450441</td>\n",
              "    </tr>\n",
              "    <tr>\n",
              "      <th>50%</th>\n",
              "      <td>0.009424</td>\n",
              "      <td>-0.009482</td>\n",
              "      <td>2.484236</td>\n",
              "      <td>94.925613</td>\n",
              "    </tr>\n",
              "    <tr>\n",
              "      <th>75%</th>\n",
              "      <td>1.158535</td>\n",
              "      <td>1.163678</td>\n",
              "      <td>4.858794</td>\n",
              "      <td>130.595027</td>\n",
              "    </tr>\n",
              "    <tr>\n",
              "      <th>max</th>\n",
              "      <td>7.238262</td>\n",
              "      <td>7.844801</td>\n",
              "      <td>16.739402</td>\n",
              "      <td>190.029838</td>\n",
              "    </tr>\n",
              "  </tbody>\n",
              "</table>\n",
              "</div>"
            ],
            "text/plain": [
              "                  f0             f1             f2        product\n",
              "count  100000.000000  100000.000000  100000.000000  100000.000000\n",
              "mean        0.002023      -0.002081       2.495128      95.000000\n",
              "std         1.732045       1.730417       3.473445      44.749921\n",
              "min        -8.760004      -7.084020     -11.970335       0.000000\n",
              "25%        -1.162288      -1.174820       0.130359      59.450441\n",
              "50%         0.009424      -0.009482       2.484236      94.925613\n",
              "75%         1.158535       1.163678       4.858794     130.595027\n",
              "max         7.238262       7.844801      16.739402     190.029838"
            ]
          },
          "execution_count": 11,
          "metadata": {},
          "output_type": "execute_result"
        }
      ],
      "source": [
        "# Memampilkan nilai statistik dari kolom numerik\n",
        "df2.describe()"
      ]
    },
    {
      "cell_type": "markdown",
      "metadata": {
        "id": "kjR0NOfnNB3E"
      },
      "source": [
        "### Initial Summary <a id='initial_summary'></a>"
      ]
    },
    {
      "cell_type": "markdown",
      "metadata": {
        "id": "MyR0j6dmNB3E"
      },
      "source": [
        "**Insights:**\n",
        "1. Data yang digunakan sudah lengkap (tidak tedapat data null) dan keseluruhan tipe datanya sudah benar\n",
        "2. Rata-rata titik pada df0 dan df1 memiliki volume cadangan minyak yang lebih tinggi dari pada df2. "
      ]
    },
    {
      "cell_type": "markdown",
      "metadata": {
        "id": "xRr38GVnNB3F"
      },
      "source": [
        "## Train and Test Model for Each Region<a id='train_data_and_test_model'></a>"
      ]
    },
    {
      "cell_type": "markdown",
      "metadata": {
        "id": "va0fRoTuNB3F"
      },
      "source": [
        "### Spliting Data into Training Set and Validation Set <a id='split_data'></a>"
      ]
    },
    {
      "cell_type": "code",
      "execution_count": null,
      "metadata": {
        "id": "eEIxAMnpNB3F"
      },
      "outputs": [],
      "source": [
        "# Function to split data into training and validation set\n",
        "def split_data (data):\n",
        "    features = data.drop(['product','id'], axis=1)\n",
        "    target = data['product']\n",
        "    \n",
        "    features_train, features_valid, target_train, target_valid = train_test_split(features, target, \n",
        "                                                                                  random_state=12345, \n",
        "                                                                                  test_size=0.25)\n",
        "    return features_train, features_valid, target_train, target_valid"
      ]
    },
    {
      "cell_type": "code",
      "execution_count": null,
      "metadata": {
        "id": "nCAogtScNB3F"
      },
      "outputs": [],
      "source": [
        "# Recall split_data function\n",
        "features_train_0, features_valid_0, target_train_0, target_valid_0 = split_data(df0)\n",
        "features_train_1, features_valid_1, target_train_1, target_valid_1 = split_data(df1)\n",
        "features_train_2, features_valid_2, target_train_2, target_valid_2 = split_data(df2)"
      ]
    },
    {
      "cell_type": "code",
      "execution_count": null,
      "metadata": {
        "id": "nF8tSvnYNB3F",
        "outputId": "239188a1-b55d-43fc-f96d-d06559926868"
      },
      "outputs": [
        {
          "name": "stdout",
          "output_type": "stream",
          "text": [
            "(75000, 3)\n",
            "(25000, 3)\n",
            "(75000,)\n",
            "(25000,)\n"
          ]
        }
      ],
      "source": [
        "# Checking split_data step\n",
        "print(features_train_0.shape)\n",
        "print(features_valid_0.shape)\n",
        "print(target_train_0.shape)\n",
        "print(target_valid_0.shape)"
      ]
    },
    {
      "cell_type": "code",
      "execution_count": null,
      "metadata": {
        "id": "S2nO3K9dNB3G",
        "outputId": "c17eb2d1-14cd-45fd-b374-5d3abb4688f0"
      },
      "outputs": [
        {
          "name": "stdout",
          "output_type": "stream",
          "text": [
            "(75000, 3)\n",
            "(25000, 3)\n",
            "(75000,)\n",
            "(25000,)\n"
          ]
        }
      ],
      "source": [
        "# Checking split_data step\n",
        "print(features_train_1.shape)\n",
        "print(features_valid_1.shape)\n",
        "print(target_train_1.shape)\n",
        "print(target_valid_1.shape)"
      ]
    },
    {
      "cell_type": "code",
      "execution_count": null,
      "metadata": {
        "id": "lwXaZmFMNB3G",
        "outputId": "cd4875b1-c87e-46d3-e9f2-17d3fb3aee90"
      },
      "outputs": [
        {
          "name": "stdout",
          "output_type": "stream",
          "text": [
            "(75000, 3)\n",
            "(25000, 3)\n",
            "(75000,)\n",
            "(25000,)\n"
          ]
        }
      ],
      "source": [
        "# Checking split_data step\n",
        "print(features_train_2.shape)\n",
        "print(features_valid_2.shape)\n",
        "print(target_train_2.shape)\n",
        "print(target_valid_2.shape)"
      ]
    },
    {
      "cell_type": "code",
      "execution_count": null,
      "metadata": {
        "id": "EWIEGJILNB3G"
      },
      "outputs": [],
      "source": [
        "df_all = [\n",
        "    df0.drop('id', axis = 1),\n",
        "    df1.drop('id', axis = 1),\n",
        "    df2.drop('id', axis = 1),\n",
        "]"
      ]
    },
    {
      "cell_type": "code",
      "execution_count": null,
      "metadata": {
        "id": "ze8j-FfzNB3G",
        "outputId": "46733417-ec15-4d42-84cf-31977ecbfe1f"
      },
      "outputs": [
        {
          "name": "stdout",
          "output_type": "stream",
          "text": [
            "—Region 0 —\n",
            "mean product amount = 92.50000000000001\n",
            "Model RMSE: 37.5794217150813\n",
            "\n",
            "—Region 1 —\n",
            "mean product amount = 68.82500000000002\n",
            "Model RMSE: 0.889736773768065\n",
            "\n",
            "—Region 2 —\n",
            "mean product amount = 95.00000000000004\n",
            "Model RMSE: 39.958042459521614\n",
            "\n"
          ]
        }
      ],
      "source": [
        "state = np.random.RandomState(12345)\n",
        "\n",
        "samples_target = []\n",
        "samples_predictions = []\n",
        "\n",
        "for region in range(len(df_all)):\n",
        "    data  = df_all[region]\n",
        "\n",
        "    features = data.drop('product', axis = 1)\n",
        "    target = data['product']\n",
        "\n",
        "    features_train, features_valid, target_train, target_valid = train_test_split( \n",
        "        features, target, test_size = 0.25, random_state = state)\n",
        "    \n",
        "    model = LinearRegression()\n",
        "    model.fit(features_train, target_train)\n",
        "    predictions = model.predict(features_valid)\n",
        "\n",
        "    samples_target.append(target_valid.reset_index(drop = True))\n",
        "    samples_predictions.append(pd.Series(predictions))\n",
        "\n",
        "    mean_product = target.mean()\n",
        "    model_rmse = mean_squared_error(target_valid, predictions)**0.5\n",
        "\n",
        "    print(\"—Region\", region, \"—\")\n",
        "    print(\"mean product amount =\", mean_product)\n",
        "    print(\"Model RMSE:\", model_rmse)\n",
        "    print()"
      ]
    },
    {
      "cell_type": "markdown",
      "metadata": {
        "id": "V5dunGIiNB3H"
      },
      "source": [
        "### Model Train and Generate Prediction for Validation Dataset <a id='train_model'></a>"
      ]
    },
    {
      "cell_type": "code",
      "execution_count": null,
      "metadata": {
        "id": "CHQGL0wZNB3H"
      },
      "outputs": [],
      "source": [
        "# Function to tune hyperparameter for LinearRegression\n",
        "def fit(features_train, target_train, features_valid, target_valid):\n",
        "    param_grid = {'fit_intercept': [True, False],\n",
        "                  'copy_X' : [True, False],\n",
        "                  'n_jobs': [1, 2, -1],\n",
        "                  'positive': [True, False],\n",
        "    }\n",
        "\n",
        "    lr = LinearRegression(np.random.RandomState(12345))\n",
        "    rmse_scorer = make_scorer(lambda target_valid, target_pred: \n",
        "                              np.sqrt(mean_squared_error(target_valid, target_pred)), \n",
        "                              greater_is_better=False)\n",
        "    \n",
        "    grid = GridSearchCV(estimator = lr, \n",
        "                        param_grid = param_grid, \n",
        "                        cv = 5, \n",
        "                        scoring = rmse_scorer)\n",
        "    \n",
        "    grid.fit(features_train, target_train)\n",
        "\n",
        "    best_params = grid.best_params_\n",
        "    best_rmse = -grid.best_score_\n",
        "    target_pred = grid.predict(features_valid)\n",
        "    mean_product = target_pred.mean()\n",
        "    model_rmse = mean_squared_error(target_valid, target_pred)**0.5\n",
        "    \n",
        "    return best_params, best_rmse, target_pred, mean_product, model_rmse"
      ]
    },
    {
      "cell_type": "code",
      "execution_count": null,
      "metadata": {
        "id": "bE_ogRQeNB3H"
      },
      "outputs": [],
      "source": [
        "# Function to tune hyperparameter for LinearRegression\n",
        "def fit2(features_train, target_train, features_valid, target_valid):\n",
        "    param_grid = {\n",
        "                  'solver': ['svd', 'cholesky', 'lsqr', 'sparse_cg', 'sag', 'saga', 'lbfgs'],\n",
        "                  'alpha': [0.01, 0.1, 1, 10, 100],\n",
        "    }\n",
        "\n",
        "    r = Ridge(np.random.RandomState(12345))\n",
        "    rmse_scorer = make_scorer(lambda target_valid, target_pred: \n",
        "                              np.sqrt(mean_squared_error(target_valid, target_pred)), \n",
        "                              greater_is_better=False)\n",
        "    \n",
        "    grid = GridSearchCV(estimator = r, \n",
        "                        param_grid = param_grid, \n",
        "                        cv = 5, \n",
        "                        scoring = rmse_scorer)\n",
        "    \n",
        "    grid.fit(features_train, target_train)\n",
        "\n",
        "    best_params = grid.best_params_\n",
        "    best_rmse = -grid.best_score_\n",
        "    target_pred = grid.predict(features_valid)\n",
        "    mean_product = target_pred.mean()\n",
        "    model_rmse = mean_squared_error(target_valid, target_pred)**0.5\n",
        "    \n",
        "    return best_params, best_rmse, target_pred, mean_product, model_rmse"
      ]
    },
    {
      "cell_type": "code",
      "execution_count": null,
      "metadata": {
        "id": "P-iYgGSONB3H"
      },
      "outputs": [],
      "source": [
        "# Recall Fit Function to Train Model for df0\n",
        "best_params_0, best_rmse_0, target_pred_0, mean_product_0, model_rmse_0 = fit2(features_train_0, \n",
        "                                                                              target_train_0, \n",
        "                                                                              features_valid_0, \n",
        "                                                                              target_valid_0)"
      ]
    },
    {
      "cell_type": "code",
      "execution_count": null,
      "metadata": {
        "id": "oBr8J_iGNB3I",
        "outputId": "93c90b7c-6ad6-4d3b-8ac4-6d3db826f23c"
      },
      "outputs": [
        {
          "data": {
            "text/plain": [
              "{'alpha': 100, 'solver': 'saga'}"
            ]
          },
          "execution_count": 22,
          "metadata": {},
          "output_type": "execute_result"
        }
      ],
      "source": [
        "# Print Best Params for df0\n",
        "best_params_0"
      ]
    },
    {
      "cell_type": "code",
      "execution_count": null,
      "metadata": {
        "id": "E7ri5602NB3I",
        "outputId": "d7baf089-ac95-461d-f801-84d2f688410c"
      },
      "outputs": [
        {
          "data": {
            "text/plain": [
              "37.73227317571341"
            ]
          },
          "execution_count": 23,
          "metadata": {},
          "output_type": "execute_result"
        }
      ],
      "source": [
        "# Print Best RMSE for df0\n",
        "best_rmse_0"
      ]
    },
    {
      "cell_type": "code",
      "execution_count": null,
      "metadata": {
        "id": "DUyPXBD9NB3I"
      },
      "outputs": [],
      "source": [
        "# Recall Fit Function to Train Model for df1\n",
        "best_params_1, best_rmse_1, target_pred_1, mean_product_1, model_rmse_1 = fit2(features_train_1, \n",
        "                                                                              target_train_1, \n",
        "                                                                              features_valid_1, \n",
        "                                                                              target_valid_1)"
      ]
    },
    {
      "cell_type": "code",
      "execution_count": null,
      "metadata": {
        "id": "Dqpp8HHKNB3I",
        "outputId": "1aaea77b-fe94-40a7-c07a-9aa83181b38b"
      },
      "outputs": [
        {
          "data": {
            "text/plain": [
              "{'alpha': 0.1, 'solver': 'lsqr'}"
            ]
          },
          "execution_count": 25,
          "metadata": {},
          "output_type": "execute_result"
        }
      ],
      "source": [
        "# Print Best Params for df1\n",
        "best_params_1"
      ]
    },
    {
      "cell_type": "code",
      "execution_count": null,
      "metadata": {
        "id": "jqf3GQAdNB3I",
        "outputId": "dcff4f93-e4e4-46ca-fa7a-302bd8ba6b86"
      },
      "outputs": [
        {
          "data": {
            "text/plain": [
              "0.8895409504762819"
            ]
          },
          "execution_count": 26,
          "metadata": {},
          "output_type": "execute_result"
        }
      ],
      "source": [
        "# Print Best RMSE for df1\n",
        "best_rmse_1"
      ]
    },
    {
      "cell_type": "code",
      "execution_count": null,
      "metadata": {
        "id": "PT041V1jNB3I"
      },
      "outputs": [],
      "source": [
        "# Recall Fit Function to Train Model for df2\n",
        "best_params_2, best_rmse_2, target_pred_2, mean_product_2, model_rmse_2 = fit2(features_train_2, \n",
        "                                                                              target_train_2, \n",
        "                                                                              features_valid_2, \n",
        "                                                                              target_valid_2)"
      ]
    },
    {
      "cell_type": "code",
      "execution_count": null,
      "metadata": {
        "id": "yOAsu-R4NB3I",
        "outputId": "aa151647-6895-4d3a-e723-6574834d1794"
      },
      "outputs": [
        {
          "data": {
            "text/plain": [
              "{'alpha': 1, 'solver': 'saga'}"
            ]
          },
          "execution_count": 28,
          "metadata": {},
          "output_type": "execute_result"
        }
      ],
      "source": [
        "# Print Best Params for df2\n",
        "best_params_2"
      ]
    },
    {
      "cell_type": "code",
      "execution_count": null,
      "metadata": {
        "id": "NqM62H8gNB3J",
        "outputId": "b9d0eb77-f17b-41cd-f95f-23abcced82ab"
      },
      "outputs": [
        {
          "data": {
            "text/plain": [
              "40.06572205067444"
            ]
          },
          "execution_count": 29,
          "metadata": {},
          "output_type": "execute_result"
        }
      ],
      "source": [
        "# Print Best RMSE for df2\n",
        "best_rmse_2"
      ]
    },
    {
      "cell_type": "code",
      "execution_count": null,
      "metadata": {
        "id": "BD1kSaOwNB3J"
      },
      "outputs": [],
      "source": [
        "df_all = [\n",
        "    df0.drop('id', axis = 1),\n",
        "    df1.drop('id', axis = 1),\n",
        "    df2.drop('id', axis = 1),\n",
        "]"
      ]
    },
    {
      "cell_type": "code",
      "execution_count": null,
      "metadata": {
        "id": "uhVZjba-NB3J",
        "outputId": "a952ab6f-a77b-428a-a07a-b5c835bfbdb0"
      },
      "outputs": [
        {
          "name": "stdout",
          "output_type": "stream",
          "text": [
            "—Region 0 —\n",
            "mean product amount = 92.50000000000001\n",
            "Model RMSE: 37.5794217150813\n",
            "\n",
            "—Region 1 —\n",
            "mean product amount = 68.82500000000002\n",
            "Model RMSE: 0.889736773768065\n",
            "\n",
            "—Region 2 —\n",
            "mean product amount = 95.00000000000004\n",
            "Model RMSE: 39.958042459521614\n",
            "\n"
          ]
        }
      ],
      "source": [
        "state = np.random.RandomState(12345)\n",
        "\n",
        "samples_target = []\n",
        "samples_predictions = []\n",
        "\n",
        "for region in range(len(df_all)):\n",
        "    data  = df_all[region]\n",
        "\n",
        "    features = data.drop('product', axis = 1)\n",
        "    target = data['product']\n",
        "\n",
        "    features_train, features_valid, target_train, target_valid = train_test_split( \n",
        "        features, target, test_size = 0.25, random_state = state)\n",
        "    \n",
        "    model = LinearRegression(copy_X = True, \n",
        "                             fit_intercept = True, \n",
        "                             n_jobs = 1, \n",
        "                             positive = False)\n",
        "    model.fit(features_train, target_train)\n",
        "    predictions = model.predict(features_valid)\n",
        "\n",
        "    samples_target.append(target_valid.reset_index(drop = True))\n",
        "    samples_predictions.append(pd.Series(predictions))\n",
        "\n",
        "    mean_product = target.mean()\n",
        "    model_rmse = mean_squared_error(target_valid, predictions)**0.5\n",
        "\n",
        "    print(\"—Region\", region, \"—\")\n",
        "    print(\"mean product amount =\", mean_product)\n",
        "    print(\"Model RMSE:\", model_rmse)\n",
        "    print()"
      ]
    },
    {
      "cell_type": "code",
      "execution_count": null,
      "metadata": {
        "id": "O11oDnCqNB3J",
        "outputId": "e72d55e1-5f75-416c-d0cd-bd54c84fdfe7"
      },
      "outputs": [
        {
          "name": "stdout",
          "output_type": "stream",
          "text": [
            "—Region 0 —\n",
            "mean product amount = 92.50000000000001\n",
            "Model RMSE: 37.57941407849715\n",
            "\n",
            "—Region 1 —\n",
            "mean product amount = 68.82500000000002\n",
            "Model RMSE: 0.8928301129769857\n",
            "\n",
            "—Region 2 —\n",
            "mean product amount = 95.00000000000004\n",
            "Model RMSE: 39.95801966643965\n",
            "\n"
          ]
        }
      ],
      "source": [
        "state = np.random.RandomState(12345)\n",
        "\n",
        "samples_target_2 = []\n",
        "samples_predictions_2 = []\n",
        "\n",
        "for region in range(len(df_all)):\n",
        "    data  = df_all[region]\n",
        "\n",
        "    features = data.drop('product', axis = 1)\n",
        "    target = data['product']\n",
        "\n",
        "    features_train, features_valid, target_train, target_valid = train_test_split( \n",
        "        features, target, test_size = 0.25, random_state = state)\n",
        "    \n",
        "    model = Ridge(alpha = 1, solver = 'sag')\n",
        "    model.fit(features_train, target_train)\n",
        "    predictions = model.predict(features_valid)\n",
        "\n",
        "    samples_target.append(target_valid.reset_index(drop = True))\n",
        "    samples_predictions.append(pd.Series(predictions))\n",
        "\n",
        "    mean_product = target.mean()\n",
        "    model_rmse = mean_squared_error(target_valid, predictions)**0.5\n",
        "\n",
        "    print(\"—Region\", region, \"—\")\n",
        "    print(\"mean product amount =\", mean_product)\n",
        "    print(\"Model RMSE:\", model_rmse)\n",
        "    print()"
      ]
    },
    {
      "cell_type": "code",
      "execution_count": null,
      "metadata": {
        "id": "9UGqiF35NB3J",
        "outputId": "3af71a73-d6fb-42d2-c339-694c8c65f37c"
      },
      "outputs": [
        {
          "name": "stdout",
          "output_type": "stream",
          "text": [
            "—Region 0 —\n",
            "mean product amount = 92.50000000000001\n",
            "Model RMSE: 38.81636571892589\n",
            "\n",
            "—Region 1 —\n",
            "mean product amount = 68.82500000000002\n",
            "Model RMSE: 0.7479881844511275\n",
            "\n",
            "—Region 2 —\n",
            "mean product amount = 95.00000000000004\n",
            "Model RMSE: 39.2961424117959\n",
            "\n"
          ]
        }
      ],
      "source": [
        "state = np.random.RandomState(12345)\n",
        "\n",
        "samples_target_3 = []\n",
        "samples_predictions_3 = []\n",
        "\n",
        "for region in range(len(df_all)):\n",
        "    data  = df_all[region]\n",
        "\n",
        "    features = data.drop('product', axis = 1)\n",
        "    target = data['product']\n",
        "\n",
        "    features_train, features_valid, target_train, target_valid = train_test_split( \n",
        "        features, target, test_size = 0.25, random_state = state)\n",
        "    \n",
        "    model = RandomForestRegressor()\n",
        "    model.fit(features_train, target_train)\n",
        "    predictions = model.predict(features_valid)\n",
        "\n",
        "    samples_target.append(target_valid.reset_index(drop = True))\n",
        "    samples_predictions.append(pd.Series(predictions))\n",
        "\n",
        "    mean_product = target.mean()\n",
        "    model_rmse = mean_squared_error(target_valid, predictions)**0.5\n",
        "\n",
        "    print(\"—Region\", region, \"—\")\n",
        "    print(\"mean product amount =\", mean_product)\n",
        "    print(\"Model RMSE:\", model_rmse)\n",
        "    print()"
      ]
    },
    {
      "cell_type": "markdown",
      "metadata": {
        "id": "caznK5SwNB3K"
      },
      "source": [
        "### Save Prediction and Correct Validation Dataset <a id='save_valid_answer'></a>"
      ]
    },
    {
      "cell_type": "code",
      "execution_count": null,
      "metadata": {
        "id": "jVxqHzCeNB3K"
      },
      "outputs": [],
      "source": [
        "target_pred_df0 = pd.DataFrame(target_pred_0, columns = ['product'])\n",
        "target_pred_df1 = pd.DataFrame(target_pred_1, columns = ['product'])\n",
        "target_pred_df2 = pd.DataFrame(target_pred_2, columns = ['product'])"
      ]
    },
    {
      "cell_type": "markdown",
      "metadata": {
        "id": "xQ4EGovBNB3K"
      },
      "source": [
        "### Average Product Volume and RMSE Model <a id='mean_product_volume'></a>"
      ]
    },
    {
      "cell_type": "code",
      "execution_count": null,
      "metadata": {
        "id": "HXoYxAn5NB3K",
        "outputId": "af6e6d06-debc-4f76-dce0-76ef679a4f8d"
      },
      "outputs": [
        {
          "name": "stdout",
          "output_type": "stream",
          "text": [
            "Region 0 Product Mean product    92.592866\n",
            "dtype: float64\n",
            "Region 0 Model RMSE: 37.579441607153385\n",
            "\n",
            "Region 1 Product Mean product    68.728547\n",
            "dtype: float64\n",
            "Region 1 Model RMSE: 0.8930993684427244\n",
            "\n",
            "Region 2 Product Mean product    94.965028\n",
            "dtype: float64\n",
            "Region 2 Model RMSE: 40.029619395448385\n"
          ]
        }
      ],
      "source": [
        "print(\"Region 0 Product Mean\", target_pred_df0.mean())\n",
        "print(\"Region 0 Model RMSE:\", model_rmse_0)\n",
        "print()\n",
        "print(\"Region 1 Product Mean\", target_pred_df1.mean())\n",
        "print(\"Region 1 Model RMSE:\", model_rmse_1)\n",
        "print()\n",
        "print(\"Region 2 Product Mean\", target_pred_df2.mean())\n",
        "print(\"Region 2 Model RMSE:\", model_rmse_2)"
      ]
    },
    {
      "cell_type": "code",
      "execution_count": null,
      "metadata": {
        "id": "TDBtlK0jNB3K",
        "outputId": "275d1c94-1aa2-452e-cd02-8e73e1ed395a"
      },
      "outputs": [
        {
          "name": "stdout",
          "output_type": "stream",
          "text": [
            "Actual Region 0 Product Mean 92.07859674082927\n",
            "\n",
            "Actual Region 1 Product Mean 68.72313602435997\n",
            "\n",
            "Actual Region 2 Product Mean 94.88423280885438\n"
          ]
        }
      ],
      "source": [
        "print(\"Actual Region 0 Product Mean\", target_valid_0.mean())\n",
        "print()\n",
        "print(\"Actual Region 1 Product Mean\", target_valid_1.mean())\n",
        "print()\n",
        "print(\"Actual Region 2 Product Mean\", target_valid_2.mean())"
      ]
    },
    {
      "cell_type": "markdown",
      "metadata": {
        "id": "4mvs6n48NB3L"
      },
      "source": [
        "### Initial Analysis <a id='initial_analysis'></a>"
      ]
    },
    {
      "cell_type": "markdown",
      "metadata": {
        "id": "906ScAI-NB3L"
      },
      "source": [
        "**Insights:**\n",
        "1. Region 2 produces the highest average predicted product results, but also has the highest error rate of 40.03.\n",
        "2. Region 0 produces predicted average product results similar to Region 2, but with a lower error rate. Therefore, instead of choosing Region 2, I would suggest choosing Region 0.\n",
        "3. Region 1 produces the lowest average predicted product results, but has the lowest error rate. Therefore, if you want to choose a region with the lowest error rate, Region 1 can be used."
      ]
    },
    {
      "cell_type": "markdown",
      "metadata": {
        "id": "NjEKqnxZNB3L"
      },
      "source": [
        "## Initial Profit Calculation<a id='initial_profit_calculation'></a>"
      ]
    },
    {
      "cell_type": "markdown",
      "metadata": {
        "id": "UjtQ9rDRNB3L"
      },
      "source": [
        "### Main Variable <a id='key_variable'></a>"
      ]
    },
    {
      "cell_type": "code",
      "execution_count": null,
      "metadata": {
        "id": "J9a8cLwjNB3L"
      },
      "outputs": [],
      "source": [
        "# Cost\n",
        "total_cost = 100000000\n",
        "total_oil_well = 200\n",
        "cost_per_well = total_cost / total_oil_well\n",
        "income = 4500"
      ]
    },
    {
      "cell_type": "markdown",
      "metadata": {
        "id": "VhVi_nNzNB3L"
      },
      "source": [
        "### Volume of Oil Reserves Sufficient to Develop a New well  <a id='minimum_oil_volume'></a>"
      ]
    },
    {
      "cell_type": "code",
      "execution_count": null,
      "metadata": {
        "id": "V5BuOdJqNB3L",
        "outputId": "2feb9f30-5676-47eb-b39b-40ec038e9130"
      },
      "outputs": [
        {
          "name": "stdout",
          "output_type": "stream",
          "text": [
            "Oil Reserves Sufficient to Develop a New Well 112.0\n"
          ]
        }
      ],
      "source": [
        "min_oil_vol = cost_per_well / income\n",
        "print(\"Oil Reserves Sufficient to Develop a New Well\", np.ceil(min_oil_vol))"
      ]
    },
    {
      "cell_type": "code",
      "execution_count": null,
      "metadata": {
        "id": "nPsTF4OaNB3L",
        "outputId": "844a8cfd-5b45-43d8-ceca-d242e82101da"
      },
      "outputs": [
        {
          "data": {
            "text/html": [
              "<div>\n",
              "<style scoped>\n",
              "    .dataframe tbody tr th:only-of-type {\n",
              "        vertical-align: middle;\n",
              "    }\n",
              "\n",
              "    .dataframe tbody tr th {\n",
              "        vertical-align: top;\n",
              "    }\n",
              "\n",
              "    .dataframe thead th {\n",
              "        text-align: right;\n",
              "    }\n",
              "</style>\n",
              "<table border=\"1\" class=\"dataframe\">\n",
              "  <thead>\n",
              "    <tr style=\"text-align: right;\">\n",
              "      <th></th>\n",
              "      <th>product</th>\n",
              "    </tr>\n",
              "  </thead>\n",
              "  <tbody>\n",
              "    <tr>\n",
              "      <th>count</th>\n",
              "      <td>25000.000000</td>\n",
              "    </tr>\n",
              "    <tr>\n",
              "      <th>mean</th>\n",
              "      <td>92.592866</td>\n",
              "    </tr>\n",
              "    <tr>\n",
              "      <th>std</th>\n",
              "      <td>23.161769</td>\n",
              "    </tr>\n",
              "    <tr>\n",
              "      <th>min</th>\n",
              "      <td>-9.373390</td>\n",
              "    </tr>\n",
              "    <tr>\n",
              "      <th>25%</th>\n",
              "      <td>76.660327</td>\n",
              "    </tr>\n",
              "    <tr>\n",
              "      <th>50%</th>\n",
              "      <td>92.661787</td>\n",
              "    </tr>\n",
              "    <tr>\n",
              "      <th>75%</th>\n",
              "      <td>108.449129</td>\n",
              "    </tr>\n",
              "    <tr>\n",
              "      <th>max</th>\n",
              "      <td>180.152598</td>\n",
              "    </tr>\n",
              "  </tbody>\n",
              "</table>\n",
              "</div>"
            ],
            "text/plain": [
              "            product\n",
              "count  25000.000000\n",
              "mean      92.592866\n",
              "std       23.161769\n",
              "min       -9.373390\n",
              "25%       76.660327\n",
              "50%       92.661787\n",
              "75%      108.449129\n",
              "max      180.152598"
            ]
          },
          "execution_count": 39,
          "metadata": {},
          "output_type": "execute_result"
        }
      ],
      "source": [
        "target_pred_df0.describe()"
      ]
    },
    {
      "cell_type": "code",
      "execution_count": null,
      "metadata": {
        "id": "uZVMv3uDNB3M",
        "outputId": "e752ed62-12f8-489e-a729-8055cc286f9e"
      },
      "outputs": [
        {
          "data": {
            "text/html": [
              "<div>\n",
              "<style scoped>\n",
              "    .dataframe tbody tr th:only-of-type {\n",
              "        vertical-align: middle;\n",
              "    }\n",
              "\n",
              "    .dataframe tbody tr th {\n",
              "        vertical-align: top;\n",
              "    }\n",
              "\n",
              "    .dataframe thead th {\n",
              "        text-align: right;\n",
              "    }\n",
              "</style>\n",
              "<table border=\"1\" class=\"dataframe\">\n",
              "  <thead>\n",
              "    <tr style=\"text-align: right;\">\n",
              "      <th></th>\n",
              "      <th>product</th>\n",
              "    </tr>\n",
              "  </thead>\n",
              "  <tbody>\n",
              "    <tr>\n",
              "      <th>count</th>\n",
              "      <td>25000.000000</td>\n",
              "    </tr>\n",
              "    <tr>\n",
              "      <th>mean</th>\n",
              "      <td>68.728547</td>\n",
              "    </tr>\n",
              "    <tr>\n",
              "      <th>std</th>\n",
              "      <td>46.010204</td>\n",
              "    </tr>\n",
              "    <tr>\n",
              "      <th>min</th>\n",
              "      <td>-1.893744</td>\n",
              "    </tr>\n",
              "    <tr>\n",
              "      <th>25%</th>\n",
              "      <td>28.536680</td>\n",
              "    </tr>\n",
              "    <tr>\n",
              "      <th>50%</th>\n",
              "      <td>57.851592</td>\n",
              "    </tr>\n",
              "    <tr>\n",
              "      <th>75%</th>\n",
              "      <td>109.346467</td>\n",
              "    </tr>\n",
              "    <tr>\n",
              "      <th>max</th>\n",
              "      <td>139.818939</td>\n",
              "    </tr>\n",
              "  </tbody>\n",
              "</table>\n",
              "</div>"
            ],
            "text/plain": [
              "            product\n",
              "count  25000.000000\n",
              "mean      68.728547\n",
              "std       46.010204\n",
              "min       -1.893744\n",
              "25%       28.536680\n",
              "50%       57.851592\n",
              "75%      109.346467\n",
              "max      139.818939"
            ]
          },
          "execution_count": 40,
          "metadata": {},
          "output_type": "execute_result"
        }
      ],
      "source": [
        "target_pred_df1.describe()"
      ]
    },
    {
      "cell_type": "code",
      "execution_count": null,
      "metadata": {
        "id": "Bpcwv4FaNB3M",
        "outputId": "1d110eb0-2149-42fb-a4ab-d10738bfadf6"
      },
      "outputs": [
        {
          "data": {
            "text/html": [
              "<div>\n",
              "<style scoped>\n",
              "    .dataframe tbody tr th:only-of-type {\n",
              "        vertical-align: middle;\n",
              "    }\n",
              "\n",
              "    .dataframe tbody tr th {\n",
              "        vertical-align: top;\n",
              "    }\n",
              "\n",
              "    .dataframe thead th {\n",
              "        text-align: right;\n",
              "    }\n",
              "</style>\n",
              "<table border=\"1\" class=\"dataframe\">\n",
              "  <thead>\n",
              "    <tr style=\"text-align: right;\">\n",
              "      <th></th>\n",
              "      <th>product</th>\n",
              "    </tr>\n",
              "  </thead>\n",
              "  <tbody>\n",
              "    <tr>\n",
              "      <th>count</th>\n",
              "      <td>25000.000000</td>\n",
              "    </tr>\n",
              "    <tr>\n",
              "      <th>mean</th>\n",
              "      <td>94.965028</td>\n",
              "    </tr>\n",
              "    <tr>\n",
              "      <th>std</th>\n",
              "      <td>19.861384</td>\n",
              "    </tr>\n",
              "    <tr>\n",
              "      <th>min</th>\n",
              "      <td>17.103267</td>\n",
              "    </tr>\n",
              "    <tr>\n",
              "      <th>25%</th>\n",
              "      <td>81.385125</td>\n",
              "    </tr>\n",
              "    <tr>\n",
              "      <th>50%</th>\n",
              "      <td>95.030283</td>\n",
              "    </tr>\n",
              "    <tr>\n",
              "      <th>75%</th>\n",
              "      <td>108.496648</td>\n",
              "    </tr>\n",
              "    <tr>\n",
              "      <th>max</th>\n",
              "      <td>165.887128</td>\n",
              "    </tr>\n",
              "  </tbody>\n",
              "</table>\n",
              "</div>"
            ],
            "text/plain": [
              "            product\n",
              "count  25000.000000\n",
              "mean      94.965028\n",
              "std       19.861384\n",
              "min       17.103267\n",
              "25%       81.385125\n",
              "50%       95.030283\n",
              "75%      108.496648\n",
              "max      165.887128"
            ]
          },
          "execution_count": 41,
          "metadata": {},
          "output_type": "execute_result"
        }
      ],
      "source": [
        "target_pred_df2.describe()"
      ]
    },
    {
      "cell_type": "code",
      "execution_count": null,
      "metadata": {
        "id": "amyAtcPpNB3M",
        "outputId": "48eb33e1-449b-4983-b4ad-8ccb3e09bd1b"
      },
      "outputs": [
        {
          "name": "stdout",
          "output_type": "stream",
          "text": [
            "product    112.355211\n",
            "Name: 0.8, dtype: float64\n",
            "product    112.146728\n",
            "Name: 0.832, dtype: float64\n",
            "product    112.604336\n",
            "Name: 0.81, dtype: float64\n"
          ]
        }
      ],
      "source": [
        "print(target_pred_df0.quantile(0.8))\n",
        "print(target_pred_df1.quantile(0.832))\n",
        "print(target_pred_df2.quantile(0.81))"
      ]
    },
    {
      "cell_type": "code",
      "execution_count": null,
      "metadata": {
        "id": "5bJCUrZLNB3M",
        "outputId": "6b796278-04f2-4ed2-804a-45ecc2f49918"
      },
      "outputs": [
        {
          "name": "stdout",
          "output_type": "stream",
          "text": [
            "Profit 39924909 USD\n",
            "\n"
          ]
        }
      ],
      "source": [
        "# Profit Calc for Region 0\n",
        "top_200_product = pd.Series(target_pred_0).sort_values(ascending = False)[:200]\n",
        "total_product = top_200_product.sum()\n",
        "total_income = income * total_product\n",
        "profit = total_income - total_cost\n",
        "print(\"Profit\", round(profit), \"USD\")\n",
        "print()"
      ]
    },
    {
      "cell_type": "code",
      "execution_count": null,
      "metadata": {
        "id": "WqHDzyjQNB3M",
        "outputId": "f8cb6e09-03fd-40f9-b1ee-6401598386ba"
      },
      "outputs": [
        {
          "name": "stdout",
          "output_type": "stream",
          "text": [
            "Profit 24857093 USD\n",
            "\n"
          ]
        }
      ],
      "source": [
        "# Profit Calc for Region 1\n",
        "top_200_product = pd.Series(target_pred_1).sort_values(ascending = False)[:200]\n",
        "total_product = top_200_product.sum()\n",
        "total_income = income * total_product\n",
        "profit = total_income - total_cost\n",
        "print(\"Profit\", round(profit), \"USD\")\n",
        "print()"
      ]
    },
    {
      "cell_type": "code",
      "execution_count": null,
      "metadata": {
        "id": "tnhoRne0NB3M",
        "outputId": "038e8dcb-1658-4dfe-aa56-2992c914bcf0"
      },
      "outputs": [
        {
          "name": "stdout",
          "output_type": "stream",
          "text": [
            "Profit 33235997 USD\n",
            "\n"
          ]
        }
      ],
      "source": [
        "# Profit Calc for Region 2\n",
        "top_200_product = pd.Series(target_pred_2).sort_values(ascending = False)[:200]\n",
        "total_product = top_200_product.sum()\n",
        "total_income = income * total_product\n",
        "profit = total_income - total_cost\n",
        "print(\"Profit\", round(profit), \"USD\")\n",
        "print()"
      ]
    },
    {
      "cell_type": "markdown",
      "metadata": {
        "id": "5NpEppyiNB3N"
      },
      "source": [
        "### Subsection Conclusion  <a id='subsection_conclusion'></a>"
      ]
    },
    {
      "cell_type": "markdown",
      "metadata": {
        "id": "hEAW0_gsNB3N"
      },
      "source": [
        "**Insights:**\n",
        "1. A well must have an oil volume greater than 112 (thousand barrels) in order for its investment to be profitable.\n",
        "2. On average, the three regions have 20 million out of 100 million points that qualify for development.\n",
        "3. If we develop the top 200 wells in each region, the highest profit will be obtained in the **region 1** with a total profit of almost 40 million USD."
      ]
    },
    {
      "cell_type": "markdown",
      "metadata": {
        "id": "kfhEjvL0NB3N"
      },
      "source": [
        "## Profit Calculation<a id='profit_calculation'></a>"
      ]
    },
    {
      "cell_type": "code",
      "execution_count": null,
      "metadata": {
        "id": "h7NkA6QnNB3N"
      },
      "outputs": [],
      "source": [
        "def calculate_profit(prediction, name, income = 4500, total_cost = 100000000, points = 200):\n",
        "    predict_top200 = prediction.sort_values(ascending = False, by = 'product')[:points]\n",
        "    product = predict_top200.sum()\n",
        "    total_cost = round(total_cost / 1000000)\n",
        "    total_income = round(income * product / 1000000)\n",
        "    profit = round(total_income - total_cost)\n",
        "    geo = name\n",
        "    print('-------------------')\n",
        "    print(f'Profitability Geo Data {geo}')\n",
        "    print(f'Total Income: {total_income}')\n",
        "    print(f'Total Cost  : {total_cost}')\n",
        "    print(f'Profit      : {profit}', 'M USD')"
      ]
    },
    {
      "cell_type": "code",
      "execution_count": null,
      "metadata": {
        "id": "VytKnIGXNB3N",
        "outputId": "8c4e01f0-52b0-4a7c-fae7-94a37972ebca"
      },
      "outputs": [
        {
          "name": "stdout",
          "output_type": "stream",
          "text": [
            "-------------------\n",
            "Profitability Geo Data 0\n",
            "Total Income: product    140.0\n",
            "dtype: float64\n",
            "Total Cost  : 100\n",
            "Profit      : product    40.0\n",
            "dtype: float64 M USD\n",
            "-------------------\n",
            "Profitability Geo Data 1\n",
            "Total Income: product    125.0\n",
            "dtype: float64\n",
            "Total Cost  : 100\n",
            "Profit      : product    25.0\n",
            "dtype: float64 M USD\n",
            "-------------------\n",
            "Profitability Geo Data 2\n",
            "Total Income: product    133.0\n",
            "dtype: float64\n",
            "Total Cost  : 100\n",
            "Profit      : product    33.0\n",
            "dtype: float64 M USD\n"
          ]
        }
      ],
      "source": [
        "calculate_profit(prediction = target_pred_df0, name = 0)\n",
        "calculate_profit(prediction = target_pred_df1, name = 1)\n",
        "calculate_profit(prediction = target_pred_df2, name = 2)"
      ]
    },
    {
      "cell_type": "markdown",
      "metadata": {
        "id": "WCzhp2-CNB3N"
      },
      "source": [
        "**Insights:**\n",
        "1. If we invest money in the top 200 wells in these three regions, we will still generate profits from all three regions.\n",
        "2. The region with the highest profit is produced in region 0.\n",
        "3. Region 0 also has the highest number of points above 112."
      ]
    },
    {
      "cell_type": "markdown",
      "metadata": {
        "id": "8VRt-n_RNB3O"
      },
      "source": [
        "## Risk and Return <a id='risk_and_return'></a>"
      ]
    },
    {
      "cell_type": "code",
      "execution_count": null,
      "metadata": {
        "id": "Y7ZUu7fJNB3O",
        "outputId": "b26552d7-ce51-4153-f268-911597d6d243"
      },
      "outputs": [
        {
          "data": {
            "text/plain": [
              "200"
            ]
          },
          "execution_count": 48,
          "metadata": {},
          "output_type": "execute_result"
        }
      ],
      "source": [
        "SAMPLE_SIZE = 500\n",
        "BOOTSTRAP_SIZE = 1000\n",
        "\n",
        "BUDGET = 100000000\n",
        "COST_PER_POINT = 500000\n",
        "POINTS_PER_BUDGET = BUDGET // COST_PER_POINT\n",
        "\n",
        "PRODUCT_PRICE = 4500\n",
        "POINTS_PER_BUDGET"
      ]
    },
    {
      "cell_type": "code",
      "execution_count": null,
      "metadata": {
        "id": "ucd-rfgCNB3O"
      },
      "outputs": [],
      "source": [
        "def calculate_profit_bootstrap(prediction, name, income = 4500, total_cost = 100000000, points = 200):\n",
        "    predict_top200 = prediction.sort_values(ascending = False)[:points]\n",
        "    product = predict_top200.sum()\n",
        "    total_cost = total_cost\n",
        "    total_income = income *  product\n",
        "    profit = total_income - total_cost\n",
        "    geo = name"
      ]
    },
    {
      "cell_type": "code",
      "execution_count": null,
      "metadata": {
        "id": "ffQLsYreNB3O"
      },
      "outputs": [],
      "source": [
        "def profit(target, predictions):\n",
        "    prediction_sorted = predictions.sort_values(ascending = False)\n",
        "    selected_points = target[prediction_sorted.index][:POINTS_PER_BUDGET]\n",
        "    product = selected_points.sum()\n",
        "    revenue = product * PRODUCT_PRICE\n",
        "    cost = BUDGET\n",
        "    return revenue - cost"
      ]
    },
    {
      "cell_type": "code",
      "execution_count": null,
      "metadata": {
        "id": "m7yTg58KNB3O",
        "outputId": "3244d831-6eff-463e-fb71-5a74efc1d655"
      },
      "outputs": [
        {
          "name": "stdout",
          "output_type": "stream",
          "text": [
            "—Region 0 —\n",
            "Mean profit = 4238972 USD\n",
            "95% confidence interval: (-761878.1389036368, 9578465.319517836)\n",
            "Risk of losses = 4.8 %\n",
            "\n",
            "—Region 1 —\n",
            "Mean profit = 5132567 USD\n",
            "95% confidence interval: (1080668.9523396173, 9285744.392324952)\n",
            "Risk of losses = 0.6 %\n",
            "\n",
            "—Region 2 —\n",
            "Mean profit = 3811204 USD\n",
            "95% confidence interval: (-1428006.300878686, 8933805.657503996)\n",
            "Risk of losses = 7.3999999999999995 %\n",
            "\n"
          ]
        }
      ],
      "source": [
        "for region in range(3):\n",
        "\n",
        "    target = samples_target[region]\n",
        "    predictions = samples_predictions[region]\n",
        "\n",
        "    profit_values = []\n",
        "    \n",
        "    for i in range(BOOTSTRAP_SIZE):\n",
        "        target_sample = target.sample(SAMPLE_SIZE, replace = True, random_state = state)\n",
        "        predictions_sample = predictions[target_sample.index]\n",
        "        #profit_values.append(calculate_profit_bootstrap(prediction = predictions_sample, name = region))\n",
        "        profit_values.append(profit(target_sample, predictions_sample))\n",
        "\n",
        "    profit_values = pd.Series(profit_values)\n",
        "\n",
        "    mean_profit = profit_values.mean()\n",
        "    confidence_interval = (profit_values.quantile(0.025), profit_values.quantile(0.975))\n",
        "    negative_profit_chance = (profit_values < 0).mean()\n",
        "    \n",
        "    print(\"—Region\", region, \"—\")\n",
        "    print(\"Mean profit =\", round(mean_profit), \"USD\")\n",
        "    print(\"95% confidence interval:\", confidence_interval)\n",
        "    print(\"Risk of losses =\", negative_profit_chance * 100, \"%\")\n",
        "    print()\n"
      ]
    },
    {
      "cell_type": "markdown",
      "metadata": {
        "id": "NZhUD4kPNB3P"
      },
      "source": [
        "## Summary <a id='summary'></a>"
      ]
    },
    {
      "cell_type": "markdown",
      "metadata": {
        "id": "AQXVEkb9NB3P"
      },
      "source": [
        "This project resulted in a model that is capable of predicting the volume of oil reserves in a well, with hope that the investment made will generate profit. Based on the model's predictions, it was found that region 2 has the highest average oil reserves. To generate profit, an oil well must have at least 112 thousand barrels of oil reserves.\n",
        "\n",
        "After performing the bootstrapping process, it was found that investing in region 2 carries high risk with the lowest average income compared to the other two regions. Therefore, I recommend investing in region 1, which has the lowest risk and the highest profit."
      ]
    }
  ],
  "metadata": {
    "kernelspec": {
      "display_name": "Python 3 (ipykernel)",
      "language": "python",
      "name": "python3"
    },
    "language_info": {
      "codemirror_mode": {
        "name": "ipython",
        "version": 3
      },
      "file_extension": ".py",
      "mimetype": "text/x-python",
      "name": "python",
      "nbconvert_exporter": "python",
      "pygments_lexer": "ipython3",
      "version": "3.9.5"
    },
    "toc": {
      "base_numbering": 1,
      "nav_menu": {},
      "number_sections": true,
      "sideBar": true,
      "skip_h1_title": true,
      "title_cell": "Table of Contents",
      "title_sidebar": "Contents",
      "toc_cell": false,
      "toc_position": {
        "height": "calc(100% - 180px)",
        "left": "10px",
        "top": "150px",
        "width": "228.7px"
      },
      "toc_section_display": true,
      "toc_window_display": true
    },
    "colab": {
      "provenance": []
    }
  },
  "nbformat": 4,
  "nbformat_minor": 0
}